{
 "cells": [
  {
   "cell_type": "markdown",
   "metadata": {},
   "source": [
    "前提知識\n",
    "- 型について知っていること  \n",
    "- numpy arrayの簡単な扱い方\n",
    "- matplotlibで簡単なグラフの出力\n",
    "\n",
    "ができることとします。"
   ]
  },
  {
   "cell_type": "markdown",
   "metadata": {},
   "source": [
    "# if文、for文\n",
    "どんなプログラミング言語でも、最低これだけ抑えておけば何とか使えるようになります。  \n",
    "ifは条件分岐、forは繰り返し処理に使います。"
   ]
  },
  {
   "cell_type": "markdown",
   "metadata": {},
   "source": [
    "## ifの使い方\n",
    "if, elif, elseがセットです。  \n",
    "見たほうが早いと思うので早速見ていきましょう。"
   ]
  },
  {
   "cell_type": "code",
   "execution_count": 1,
   "metadata": {},
   "outputs": [
    {
     "name": "stdout",
     "output_type": "stream",
     "text": [
      "He/She is a teenager.\n"
     ]
    }
   ],
   "source": [
    "# teenagerかどうか判定する\n",
    "\n",
    "age = 19   # 19歳\n",
    "\n",
    "if age>=13 and age<20:\n",
    "    print(\"He/She is a teenager.\")"
   ]
  },
  {
   "cell_type": "markdown",
   "metadata": {},
   "source": [
    "このように、条件判定ができます。  \n",
    "条件をクリアしたときのみ、ifの段落が実行されます。\n",
    "```python\n",
    "if 条件:\n",
    "    処理\n",
    "```\n",
    "\n",
    "のように、__コロン（:）__を忘れないようにしましょう。Pythonではifやforなど、文末にコロンが必要なタイミングがあります。  \n",
    "また、Pythonでは__インデント（字下げの事）__でifなどの関数の影響範囲（関数が見える範囲なので__スコープ__と呼ぶ）を区切るので、段落を作ってあげることも忘れないように。ifやforの影響範囲は、ifなどの直後のインデントされている段落だけです。\n",
    "ちなみに__Tabを打てばインデントできます。__  \n",
    "また、コロンが打ってあるような状況では、改行時に自動でインデントしてくれます（エディタにもよる）。  \n",
    "この後いちいちコロンについては説明しないので、エラーが出た時はコロンを忘れていないか確認してください。\n",
    "\n",
    "では次に数字を変えてみましょう。"
   ]
  },
  {
   "cell_type": "code",
   "execution_count": 2,
   "metadata": {
    "collapsed": true
   },
   "outputs": [],
   "source": [
    "## teenagerかどうか判定する\n",
    "\n",
    "age = 10   # 10歳\n",
    "\n",
    "if age>=13 and age<20:\n",
    "    print(\"He/She is a teenager.\")"
   ]
  },
  {
   "cell_type": "markdown",
   "metadata": {},
   "source": [
    "なにも表示されません。  \n",
    "これは、条件をクリアできなかったので、if以下の処理が飛ばされてしまったためです。  \n",
    "では次。"
   ]
  },
  {
   "cell_type": "code",
   "execution_count": 3,
   "metadata": {},
   "outputs": [
    {
     "name": "stdout",
     "output_type": "stream",
     "text": [
      "He/She is not a teenager\n"
     ]
    }
   ],
   "source": [
    "## teenagerかどうか判定する\n",
    "\n",
    "age = 10   # 10歳\n",
    "\n",
    "if age>=13 and age<20:\n",
    "    print(\"He/She is a teenager.\")\n",
    "else:  # ifとelseは同じインデント高さ\n",
    "    print(\"He/She is not a teenager\")\n",
    "        "
   ]
  },
  {
   "cell_type": "markdown",
   "metadata": {},
   "source": [
    "条件をクリアできなかった場合の処理をこのように、else以下で処理をさせることができます。  \n",
    "はい、じゃあさらに..."
   ]
  },
  {
   "cell_type": "code",
   "execution_count": 6,
   "metadata": {},
   "outputs": [
    {
     "name": "stdout",
     "output_type": "stream",
     "text": [
      "He/She is a man/woman\n"
     ]
    }
   ],
   "source": [
    "## teenagerかどうか判定する\n",
    "\n",
    "age = 99   # 10歳\n",
    "\n",
    "if age>=13 and age<20:\n",
    "    print(\"He/She is a teenager.\")\n",
    "elif age < 13:  # else if（そうじゃなくて、もし~）の略\n",
    "    print(\"He/She is a boy/girl\")\n",
    "else:\n",
    "    print(\"He/She is a man/woman\")"
   ]
  },
  {
   "cell_type": "markdown",
   "metadata": {},
   "source": [
    "色々使い勝手がよさそうなことはわかったでしょうか？  \n",
    "研究だと有意性の判定なんかで使うと便利かも。"
   ]
  },
  {
   "cell_type": "markdown",
   "metadata": {},
   "source": [
    "# 例1: p値の判定"
   ]
  },
  {
   "cell_type": "code",
   "execution_count": 8,
   "metadata": {},
   "outputs": [
    {
     "name": "stdout",
     "output_type": "stream",
     "text": [
      "not significant.\n"
     ]
    }
   ],
   "source": [
    "alpha = 0.025   # 有意水準\n",
    "p = 0.1   # p値（今回は例示のため、適当に手打ち）\n",
    "\n",
    "if p <= alpha:\n",
    "    print(\"significant\")\n",
    "else:\n",
    "    print(\"not significant.\")\n",
    "        "
   ]
  },
  {
   "cell_type": "markdown",
   "metadata": {},
   "source": [
    "## for loop\n",
    "繰り返し処理です。これで色んな事が自動化できます。\n",
    "有名なフィボナッチ数列を作ってみましょう。  \n",
    "（名前くらいは聞いたことありますよね？知らなければググってください）"
   ]
  },
  {
   "cell_type": "code",
   "execution_count": 16,
   "metadata": {},
   "outputs": [
    {
     "name": "stdout",
     "output_type": "stream",
     "text": [
      "2\n",
      "3\n",
      "5\n",
      "8\n",
      "13\n",
      "21\n",
      "34\n",
      "55\n",
      "89\n",
      "144\n",
      "233\n",
      "377\n",
      "610\n",
      "987\n",
      "1597\n",
      "2584\n",
      "4181\n",
      "6765\n",
      "10946\n",
      "17711\n",
      "28657\n",
      "46368\n",
      "75025\n",
      "121393\n",
      "196418\n",
      "317811\n",
      "514229\n",
      "832040\n",
      "1346269\n",
      "2178309\n",
      "3524578\n",
      "5702887\n",
      "9227465\n",
      "14930352\n",
      "24157817\n",
      "39088169\n",
      "63245986\n",
      "102334155\n",
      "165580141\n",
      "267914296\n",
      "433494437\n",
      "701408733\n",
      "1134903170\n",
      "1836311903\n",
      "2971215073\n",
      "4807526976\n",
      "7778742049\n",
      "12586269025\n",
      "20365011074\n",
      "32951280099\n",
      "53316291173\n",
      "86267571272\n",
      "139583862445\n",
      "225851433717\n",
      "365435296162\n",
      "591286729879\n",
      "956722026041\n",
      "1548008755920\n",
      "2504730781961\n",
      "4052739537881\n",
      "6557470319842\n",
      "10610209857723\n",
      "17167680177565\n",
      "27777890035288\n",
      "44945570212853\n",
      "72723460248141\n",
      "117669030460994\n",
      "190392490709135\n",
      "308061521170129\n",
      "498454011879264\n",
      "806515533049393\n",
      "1304969544928657\n",
      "2111485077978050\n",
      "3416454622906707\n",
      "5527939700884757\n",
      "8944394323791464\n",
      "14472334024676221\n",
      "23416728348467685\n",
      "37889062373143906\n",
      "61305790721611591\n",
      "99194853094755497\n",
      "160500643816367088\n",
      "259695496911122585\n",
      "420196140727489673\n",
      "679891637638612258\n",
      "1100087778366101931\n",
      "1779979416004714189\n",
      "2880067194370816120\n",
      "4660046610375530309\n",
      "7540113804746346429\n",
      "12200160415121876738\n",
      "19740274219868223167\n",
      "31940434634990099905\n",
      "51680708854858323072\n",
      "83621143489848422977\n",
      "135301852344706746049\n",
      "218922995834555169026\n",
      "354224848179261915075\n",
      "573147844013817084101\n",
      "927372692193078999176\n"
     ]
    }
   ],
   "source": [
    "a1 = 1   #フィボナッチ数列の初期値\n",
    "a2 = 1   #フィボナッチ数列の初期値\n",
    "n = 100   #繰り返し数(余り桁外れに大きくするとパソコンが重たくなるので1000程度までをお勧めします)\n",
    "\n",
    "for i in range(n):\n",
    "    a3 = a1+a2\n",
    "    a1 = a2\n",
    "    a2 = a3\n",
    "    print(a3)"
   ]
  },
  {
   "cell_type": "markdown",
   "metadata": {},
   "source": [
    "ちょっと表示がうざったいですができました。\n",
    "こんな風に繰り返し処理が書けます。"
   ]
  },
  {
   "cell_type": "markdown",
   "metadata": {},
   "source": [
    "では、ifとforを組み合わせて、普段は数値を数え上げるが、3の倍数の時だけ「バカ」と表示ししてみます。"
   ]
  },
  {
   "cell_type": "code",
   "execution_count": 17,
   "metadata": {},
   "outputs": [
    {
     "name": "stdout",
     "output_type": "stream",
     "text": [
      "バカ\n",
      "1\n",
      "2\n",
      "バカ\n",
      "4\n",
      "5\n",
      "バカ\n",
      "7\n",
      "8\n",
      "バカ\n",
      "10\n",
      "11\n",
      "バカ\n",
      "13\n",
      "14\n",
      "バカ\n",
      "16\n",
      "17\n",
      "バカ\n",
      "19\n",
      "20\n",
      "バカ\n",
      "22\n",
      "23\n",
      "バカ\n",
      "25\n",
      "26\n",
      "バカ\n",
      "28\n",
      "29\n",
      "バカ\n",
      "31\n",
      "32\n",
      "バカ\n",
      "34\n",
      "35\n",
      "バカ\n",
      "37\n",
      "38\n",
      "バカ\n",
      "40\n",
      "41\n",
      "バカ\n",
      "43\n",
      "44\n",
      "バカ\n",
      "46\n",
      "47\n",
      "バカ\n",
      "49\n",
      "50\n",
      "バカ\n",
      "52\n",
      "53\n",
      "バカ\n",
      "55\n",
      "56\n",
      "バカ\n",
      "58\n",
      "59\n",
      "バカ\n",
      "61\n",
      "62\n",
      "バカ\n",
      "64\n",
      "65\n",
      "バカ\n",
      "67\n",
      "68\n",
      "バカ\n",
      "70\n",
      "71\n",
      "バカ\n",
      "73\n",
      "74\n",
      "バカ\n",
      "76\n",
      "77\n",
      "バカ\n",
      "79\n",
      "80\n",
      "バカ\n",
      "82\n",
      "83\n",
      "バカ\n",
      "85\n",
      "86\n",
      "バカ\n",
      "88\n",
      "89\n",
      "バカ\n",
      "91\n",
      "92\n",
      "バカ\n",
      "94\n",
      "95\n",
      "バカ\n",
      "97\n",
      "98\n",
      "バカ\n"
     ]
    }
   ],
   "source": [
    "n=100   # 繰り返し数\n",
    "\n",
    "for i in range(n):   #0から始まることに注意（つまり0から99）\n",
    "    if i % 3 != 0:   # %は割り算したときの余りを出力する演算子。割り切れれば0。!は否定を表す。\n",
    "        print(i)\n",
    "    else:\n",
    "        print(\"バカ\")"
   ]
  },
  {
   "cell_type": "markdown",
   "metadata": {},
   "source": [
    "## forのおさらい\n",
    "ちょっと説明不足な部分をここで補います。\n",
    "```python\n",
    "for i in range(n):\n",
    "    処理\n",
    "```\n",
    "- range(n)は0からn個の連番を生成\n",
    "- for i in range(n)はrange(n)の中の数値を順番に取り出してiに入れて、以下の処理を実行"
   ]
  },
  {
   "cell_type": "markdown",
   "metadata": {},
   "source": [
    "## Pythonだと、リストをそのまま回せる\n",
    "こんなこともできます。"
   ]
  },
  {
   "cell_type": "code",
   "execution_count": 18,
   "metadata": {},
   "outputs": [
    {
     "name": "stdout",
     "output_type": "stream",
     "text": [
      "Yoshida\n",
      "Futaki\n",
      "Saito\n",
      "Inoue\n"
     ]
    }
   ],
   "source": [
    "names = [\"Yoshida\", \"Futaki\", \"Saito\", \"Inoue\"]\n",
    "\n",
    "for name in names:\n",
    "    print(name)"
   ]
  },
  {
   "cell_type": "markdown",
   "metadata": {},
   "source": []
  },
  {
   "cell_type": "markdown",
   "metadata": {},
   "source": [
    "namesに入っているものを順番にnameに入れて、処理を実行しています。  \n",
    "何かが順番に入っているものなら、何でもこんな風に並べることができます。"
   ]
  },
  {
   "cell_type": "markdown",
   "metadata": {},
   "source": [
    "## リストも使いたいし、連番も使いたい"
   ]
  },
  {
   "cell_type": "code",
   "execution_count": 19,
   "metadata": {},
   "outputs": [
    {
     "name": "stdout",
     "output_type": "stream",
     "text": [
      "0 Yoshida\n",
      "1 Futaki\n",
      "2 Saito\n",
      "3 Inoue\n"
     ]
    }
   ],
   "source": [
    "names = [\"Yoshida\", \"Futaki\", \"Saito\", \"Inoue\"]\n",
    "\n",
    "for i,name in enumerate(names):\n",
    "    print(i, name)"
   ]
  },
  {
   "cell_type": "markdown",
   "metadata": {},
   "source": [
    "こんな風に\n",
    "- 今何番目の処理か\n",
    "- その時のリストの要素\n",
    "を同時に取り出して処理することも可能です。  \n",
    "\n",
    "これはMATLABやほかの言語にはあんまりない処理ですが、便利なのでぜひ覚えておきましょう。"
   ]
  },
  {
   "cell_type": "markdown",
   "metadata": {},
   "source": [
    "以上でプログラミングの基礎のキくらいは終わりです。  \n",
    "今まで教えたことだけわかっていれば、どんな言語でもとりあえず触れるようになります。  "
   ]
  },
  {
   "cell_type": "markdown",
   "metadata": {},
   "source": [
    "# 課題\n",
    "グラフの重ね書き。"
   ]
  },
  {
   "cell_type": "markdown",
   "metadata": {},
   "source": [
    "\\begin{align*}\n",
    "y &= \\sin{x} \\\\\n",
    "y &= \\sin\\left(x+\\frac{\\pi}{5}\\right)\\\\\n",
    "y &= \\sin\\left(x+\\frac{2\\pi}{5}\\right)\\\\\n",
    "\\vdots \\\\\n",
    "y &= \\sin\\left(x+\\frac{9\\pi}{5}\\right)\\\\\n",
    "\\end{align*}\n",
    "\n",
    "のグラフを一つのグラフに重ね書きしてください。\n",
    "\n",
    "プロット範囲は\n",
    "x = [-5, 5]\n",
    "とします。\n",
    "\n",
    "前回は簡単だったようなので、今回はノーヒントで。  \n",
    "調べてわからなければ、Slackにて質問してください。  \n",
    "あるいは、「もっとこうしたいが方法はないか」といった質問でもよいです。"
   ]
  },
  {
   "cell_type": "markdown",
   "metadata": {},
   "source": [
    "# 追加課題\n",
    "上記のグラフを$ 3 \\times 3 $で、バラバラにプロットしてください。  \n",
    "※プロットするのは9個でいいです。\n",
    "\n",
    "答えの図だけ作っておきます。"
   ]
  },
  {
   "cell_type": "code",
   "execution_count": 22,
   "metadata": {},
   "outputs": [
    {
     "data": {
      "image/png": "[encoded data removed]",
      "text/plain": [
       "<Figure size 864x576 with 9 Axes>"
      ]
     },
     "metadata": {
      "needs_background": "light"
     },
     "output_type": "display_data"
    }
   ],
   "source": []
  },
  {
   "cell_type": "code",
   "execution_count": null,
   "metadata": {
    "collapsed": true
   },
   "outputs": [],
   "source": []
  }
 ],
 "metadata": {
  "kernelspec": {
   "display_name": "python_beginner",
   "language": "python",
   "name": "python_begginer"
  },
  "language_info": {
   "codemirror_mode": {
    "name": "ipython",
    "version": 3
   },
   "file_extension": ".py",
   "mimetype": "text/x-python",
   "name": "python",
   "nbconvert_exporter": "python",
   "pygments_lexer": "ipython3",
   "version": "3.6.6"
  }
 },
 "nbformat": 4,
 "nbformat_minor": 2
}
