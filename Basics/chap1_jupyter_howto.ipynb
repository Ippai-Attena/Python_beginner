{
 "cells": [
  {
   "cell_type": "markdown",
   "metadata": {},
   "source": [
    "# Jupyter notebookの使い方"
   ]
  },
  {
   "cell_type": "markdown",
   "metadata": {},
   "source": [
    "上のメニューバーからでもこれから説明する全操作はできるので、覚えなくてもいいけど覚えておくと便利なショートカット集  \n",
    "いずれもセルを選択した状態で効くショートカットです。\n",
    "\n",
    "入力モード（カーソルが点滅している状態）ではなく、セル（今緑で囲まれている領域。プログラムの実行単位。）を選択した状態を前提にしているので注意してください。  \n",
    "\n",
    "セルの選択は入力部分以外のセル領域をクリックすれば大丈夫です。  \n",
    "あるいは、Escを押せば入力モードから抜けてセルの選択状態になります。  \n",
    "逆に、セルの選択をした状態でEnterを押せば入力モードに入ります。\n",
    "\n",
    "以下、ショートカット集です。\n",
    "\n",
    "---"
   ]
  },
  {
   "cell_type": "markdown",
   "metadata": {},
   "source": [
    "# ショートカット集（自分が使ってるやつを抜粋）"
   ]
  },
  {
   "cell_type": "markdown",
   "metadata": {},
   "source": [
    "__a__: 上にセルを追加  \n",
    "__b__: 下にセルを追加 \n",
    "__dd__: セルを削除  \n",
    "間違って消したくないセルを消してしまった場合、メニューバーから、  \n",
    "__Edit→Undo Delete Cells__  \n",
    "で消す前に戻せます。\n",
    "\n",
    "__Shift+Enter__: プログラムを実行して次のセルへ移動  \n",
    "__Ctrl+Rnter__:プログラムを実行してセルは移動しない"
   ]
  },
  {
   "cell_type": "markdown",
   "metadata": {},
   "source": [
    "セルを指定してなくてもいつでも効く  \n",
    "__Ctrl+S__: 上書き保存"
   ]
  },
  {
   "cell_type": "markdown",
   "metadata": {},
   "source": [
    "jupyter-notebookのファイル名変更  \n",
    "ページ上部の__Untitled__部分をクリックすると名前の変更ができる"
   ]
  },
  {
   "cell_type": "markdown",
   "metadata": {},
   "source": [
    "他のショートカット  \n",
    "適当なセルを選択した状態で__h__。 (__h__elp)の意。"
   ]
  },
  {
   "cell_type": "markdown",
   "metadata": {},
   "source": [
    "### プログラムを書いてる途中に便利なやつ"
   ]
  },
  {
   "cell_type": "markdown",
   "metadata": {},
   "source": [
    "この関数の使い方なんだっけ？？って時に使う。  \n",
    "わからん関数にカーソルを合わせた状態で__Shift+tab__  \n",
    "ポップアップでヘルプが見れる。当然英語。\n",
    "\n",
    "ヘルプの見方は他にもある。  \n",
    "好きな法を使えばよい。"
   ]
  },
  {
   "cell_type": "code",
   "execution_count": 3,
   "metadata": {
    "collapsed": true
   },
   "outputs": [],
   "source": [
    "import numpy as np\n",
    "?np.array"
   ]
  },
  {
   "cell_type": "markdown",
   "metadata": {},
   "source": [
    "のように、気になる関数の前に__?__を付けてセルを実行すればフルドキュメントが見れる。"
   ]
  },
  {
   "cell_type": "markdown",
   "metadata": {},
   "source": [
    "# タブ補完（必読）"
   ]
  },
  {
   "cell_type": "markdown",
   "metadata": {},
   "source": [
    "プログラムを書いている時に\n",
    "\n",
    "「毎回こんなにプログラム書けるか！」\n",
    "「こんなわけわからない文をミスなく入力できる日は来るのかな」\n",
    "\n",
    "とかいろいろ思うと思います。\n",
    "\n",
    "もちろん慣れてくれば何も見ないでコーディングできますが、タイプミスがなくなるわけじゃありません。  \n",
    "そこで__タブ補完__を使います。"
   ]
  },
  {
   "cell_type": "markdown",
   "metadata": {},
   "source": [
    "### 例"
   ]
  },
  {
   "cell_type": "markdown",
   "metadata": {},
   "source": [
    "```python\n",
    "imp\n",
    "```\n",
    "\n",
    "ここまで打てたら、tabを押すと"
   ]
  },
  {
   "cell_type": "markdown",
   "metadata": {},
   "source": [
    "```python\n",
    "import\n",
    "```"
   ]
  },
  {
   "cell_type": "markdown",
   "metadata": {},
   "source": [
    "と残りの部分が自動で入力されます。  \n",
    "これは他の関数（あるいは数値を代入した変数）でも同様なので、タイプミスを減らすために積極的に使っていきましょう。  \n",
    "コーディングが早い人ほど、こういうのが上手です。\n",
    "\n",
    "注意点として、importが必要なライブラリの関数は、一度importしてからじゃないと補完が効かないことがあります。  \n",
    "そういう時は"
   ]
  },
  {
   "cell_type": "code",
   "execution_count": 4,
   "metadata": {
    "collapsed": true
   },
   "outputs": [],
   "source": [
    "import numpy as np"
   ]
  },
  {
   "cell_type": "markdown",
   "metadata": {},
   "source": [
    "のように、一度importしてしまってから使いましょう。"
   ]
  }
 ],
 "metadata": {
  "kernelspec": {
   "display_name": "python_beginner",
   "language": "python",
   "name": "python_begginer"
  },
  "language_info": {
   "codemirror_mode": {
    "name": "ipython",
    "version": 3
   },
   "file_extension": ".py",
   "mimetype": "text/x-python",
   "name": "python",
   "nbconvert_exporter": "python",
   "pygments_lexer": "ipython3",
   "version": "3.6.6"
  }
 },
 "nbformat": 4,
 "nbformat_minor": 2
}
