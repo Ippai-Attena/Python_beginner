{
 "cells": [
  {
   "cell_type": "markdown",
   "metadata": {},
   "source": [
    "# 型について"
   ]
  },
  {
   "cell_type": "markdown",
   "metadata": {},
   "source": [
    "整数だとか小数（正確には浮動小数点型）といった__数値型__についての説明は既にしました。  \n",
    "ここでは、数値を格納する__データ型__について説明します。  \n",
    "\n",
    "- 数値型： 数値の種類\n",
    "- データ型： 数値を入れる容器の種類に相当\n",
    "\n",
    "↓もう少しかみ砕くと  \n",
    "\n",
    "- 数値型: 男 or 女\n",
    "- データ型： 学校のクラス\n",
    "\n",
    "みたいな対応になっています。  \n",
    "実際に、データ型は__クラス__というもので定義されてます。  \n",
    "クラスを使うのは比較的大きなプログラム（200とか500行以上）を書くようになってからでよいので、紹介するとしても最後です。  \n",
    "なので、今は「そんなものがあるんだー」程度で流してください。"
   ]
  },
  {
   "cell_type": "markdown",
   "metadata": {},
   "source": [
    "# データ型とは\n",
    "本気でPythonやるなら以下のリンクへGO  \n",
    "https://docs.python.jp/3/library/stdtypes.html  \n",
    "今は絶対に理解できません。  \n",
    "小学生に大学数学を教えてるようなもんです。  \n",
    "\n",
    "まあ多少はね？  \n",
    "公式の情報の場所を知っておくことは重要です。"
   ]
  },
  {
   "cell_type": "markdown",
   "metadata": {},
   "source": [
    "### 最初に知ってほしいデータ型"
   ]
  },
  {
   "cell_type": "markdown",
   "metadata": {},
   "source": [
    "1. リスト\n",
    "1. タプル\n",
    "1. 辞書型（ディクショナリ）\n",
    "\n",
    "とりあえずこれだけです。では使い方を見ていきましょう。"
   ]
  },
  {
   "cell_type": "markdown",
   "metadata": {},
   "source": [
    "## 例１：リスト\n",
    "リストは大カッコ[ ]で数値や変数を囲むだけです。  \n",
    "複数の数値をまとめて、「リストの何番目の値を切り出す」といった使い方をします。  \n",
    "言葉だと説明しにくいので、実際の動作を見てみましょう。"
   ]
  },
  {
   "cell_type": "code",
   "execution_count": 5,
   "metadata": {
    "collapsed": true
   },
   "outputs": [],
   "source": [
    "X = [1,2,3,4,5]   # Xにリスト、[1,2,3,4,5]を代入"
   ]
  },
  {
   "cell_type": "code",
   "execution_count": 12,
   "metadata": {},
   "outputs": [
    {
     "data": {
      "text/plain": [
       "1"
      ]
     },
     "execution_count": 12,
     "metadata": {},
     "output_type": "execute_result"
    }
   ],
   "source": [
    "X[0]   # Xの0番目をスライス"
   ]
  },
  {
   "cell_type": "code",
   "execution_count": 13,
   "metadata": {},
   "outputs": [
    {
     "data": {
      "text/plain": [
       "5"
      ]
     },
     "execution_count": 13,
     "metadata": {},
     "output_type": "execute_result"
    }
   ],
   "source": [
    "X[4]   # Xの4番目をスライス"
   ]
  },
  {
   "cell_type": "code",
   "execution_count": 16,
   "metadata": {},
   "outputs": [
    {
     "data": {
      "text/plain": [
       "[1, 2, 3]"
      ]
     },
     "execution_count": 16,
     "metadata": {},
     "output_type": "execute_result"
    }
   ],
   "source": [
    "X[0:3]   # Xの0以上、3未満番目までをスライス（Pythonは基本、以上-未満で切り出すので注意）"
   ]
  },
  {
   "cell_type": "code",
   "execution_count": 15,
   "metadata": {},
   "outputs": [
    {
     "data": {
      "text/plain": [
       "5"
      ]
     },
     "execution_count": 15,
     "metadata": {},
     "output_type": "execute_result"
    }
   ],
   "source": [
    "X[-1]   # Xの-1番目（後ろから数えて1番）をスライス"
   ]
  },
  {
   "cell_type": "markdown",
   "metadata": {},
   "source": [
    "はい。こんな感じです。文字通りただのリストですね。  \n",
    "以上の切り出しの作業を__スライス__と呼びます。  \n",
    "注意する点として、Pythonは0番目から数えるので注意です。MATLABやRは1番目から数えます。  \n",
    "0から数えるか1から数えるかは、0-origin、1-originなんて呼びます。  \n",
    "言語によるので、ほかの言語を使う場合は1番最初に確認すべきかも。\n"
   ]
  },
  {
   "cell_type": "markdown",
   "metadata": {},
   "source": [
    "## 例2: 辞書型（ディクショナリ）\n",
    "辞書型は数値（変数）に名前を付けて呼び出せるようにしたもので、keyとvalueのセットになっています。  \n",
    "__順序という概念がないので注意です。__"
   ]
  },
  {
   "cell_type": "code",
   "execution_count": 36,
   "metadata": {},
   "outputs": [
    {
     "data": {
      "text/plain": [
       "{'a': 1, 'b': 2, 'c': 3}"
      ]
     },
     "execution_count": 36,
     "metadata": {},
     "output_type": "execute_result"
    }
   ],
   "source": [
    "dic = {\"a\":1, \"b\":2, \"c\":3}\n",
    "dic   # 表示するために書いてるだけ"
   ]
  },
  {
   "cell_type": "code",
   "execution_count": 22,
   "metadata": {},
   "outputs": [
    {
     "data": {
      "text/plain": [
       "1"
      ]
     },
     "execution_count": 22,
     "metadata": {},
     "output_type": "execute_result"
    }
   ],
   "source": [
    "dic[\"a\"]"
   ]
  },
  {
   "cell_type": "code",
   "execution_count": 28,
   "metadata": {},
   "outputs": [
    {
     "data": {
      "text/plain": [
       "dict_keys(['a', 'b', 'c'])"
      ]
     },
     "execution_count": 28,
     "metadata": {},
     "output_type": "execute_result"
    }
   ],
   "source": [
    "dic.keys()   # keyを呼び出し。順序はめちゃくちゃになることがあるので注意。"
   ]
  },
  {
   "cell_type": "code",
   "execution_count": 29,
   "metadata": {},
   "outputs": [
    {
     "data": {
      "text/plain": [
       "dict_values([1, 2, 3])"
      ]
     },
     "execution_count": 29,
     "metadata": {},
     "output_type": "execute_result"
    }
   ],
   "source": [
    "dic.values()   # valueを呼び出し。順序はめちゃくちゃになることがあるので注意。"
   ]
  },
  {
   "cell_type": "markdown",
   "metadata": {},
   "source": [
    "後から追加もできます"
   ]
  },
  {
   "cell_type": "code",
   "execution_count": 37,
   "metadata": {},
   "outputs": [
    {
     "data": {
      "text/plain": [
       "{'a': 1, 'b': 2, 'c': 3, 'd': 4}"
      ]
     },
     "execution_count": 37,
     "metadata": {},
     "output_type": "execute_result"
    }
   ],
   "source": [
    "dic[\"d\"] = 4\n",
    "dic   # 表示するために書いてるだけ"
   ]
  },
  {
   "cell_type": "markdown",
   "metadata": {},
   "source": [
    "ディクショナリは基本、まとめて値を取り出すことはできません。  \n",
    "繰り返し処理を実装して順々に値を取り出すのが通常です。  \n",
    "ただ、便利なライブラリを使えばまとめて数値を切り出したりできます。  \n",
    "それはまた後程。"
   ]
  },
  {
   "cell_type": "markdown",
   "metadata": {},
   "source": [
    "### ディクショナリで順序を保つ"
   ]
  },
  {
   "cell_type": "markdown",
   "metadata": {},
   "source": [
    "いくら数値に名前をつけたからと言って、順序が保たれていないと困ることがあります。  \n",
    "__collections__ライブラリの__OrderdDict__を使えば順序を守ったディクショナリを作ることができます。"
   ]
  },
  {
   "cell_type": "code",
   "execution_count": 42,
   "metadata": {},
   "outputs": [
    {
     "data": {
      "text/plain": [
       "OrderedDict([('a', 1), ('b', 2), ('c', 3)])"
      ]
     },
     "execution_count": 42,
     "metadata": {},
     "output_type": "execute_result"
    }
   ],
   "source": [
    "from collections import OrderedDict\n",
    "\n",
    "dic_order = OrderedDict([('a', 1), ('b', 2), ('c', 3)])\n",
    "dic_order"
   ]
  },
  {
   "cell_type": "markdown",
   "metadata": {},
   "source": [
    "## 例3: タプル\n",
    "あえて後回しにしました。  \n",
    "というのは、書き方はリストと全く同じだからです。  \n",
    "違うのは[ ]じゃなくて( )を使うことだけです。"
   ]
  },
  {
   "cell_type": "code",
   "execution_count": 43,
   "metadata": {
    "collapsed": true
   },
   "outputs": [],
   "source": [
    "X = (1,2,3,4,5)"
   ]
  },
  {
   "cell_type": "code",
   "execution_count": 44,
   "metadata": {},
   "outputs": [
    {
     "data": {
      "text/plain": [
       "1"
      ]
     },
     "execution_count": 44,
     "metadata": {},
     "output_type": "execute_result"
    }
   ],
   "source": [
    "X[0]"
   ]
  },
  {
   "cell_type": "code",
   "execution_count": 45,
   "metadata": {},
   "outputs": [
    {
     "data": {
      "text/plain": [
       "(1, 2, 3)"
      ]
     },
     "execution_count": 45,
     "metadata": {},
     "output_type": "execute_result"
    }
   ],
   "source": [
    "X[0:3]"
   ]
  },
  {
   "cell_type": "markdown",
   "metadata": {},
   "source": [
    "全く同じでしょう？"
   ]
  },
  {
   "cell_type": "markdown",
   "metadata": {},
   "source": [
    "### リストとタプル使い分け\n",
    "後から編集可能にするかどうかで使い分けます。\n",
    "- リスト $\\longrightarrow$ 編集可能\n",
    "- タプル $\\longrightarrow$ 編集不可能"
   ]
  },
  {
   "cell_type": "markdown",
   "metadata": {},
   "source": [
    "大きなプログラムを開発するときに、何があっても絶対に変更したくない値というのがあるので、そういう時にタプルを使います。  \n",
    "バグによって編集操作が入っても、タプルなら編集不可能なのでエラーを吐いて止まってくれるというわけです。  \n",
    "初めはとりあえずリストを使っておけばいいんじゃないですかね（適当）\n",
    "\n",
    "一応実例として、タプルの内容を変更しようとするとエラーが出ることを確認しておきましょう。"
   ]
  },
  {
   "cell_type": "code",
   "execution_count": 48,
   "metadata": {
    "collapsed": true
   },
   "outputs": [],
   "source": [
    "x = [1,2,3]   # xにリスト [1,2,3]を代入\n",
    "y = (1,2,3)   # xにタプル (1,2,3)を代入"
   ]
  },
  {
   "cell_type": "code",
   "execution_count": 51,
   "metadata": {},
   "outputs": [
    {
     "data": {
      "text/plain": [
       "[4, 2, 3]"
      ]
     },
     "execution_count": 51,
     "metadata": {},
     "output_type": "execute_result"
    }
   ],
   "source": [
    "x[0] = 4  # x[0]に4を代入\n",
    "x   # 表示するためだけに書いてます"
   ]
  },
  {
   "cell_type": "code",
   "execution_count": 54,
   "metadata": {},
   "outputs": [
    {
     "ename": "TypeError",
     "evalue": "'tuple' object does not support item assignment",
     "output_type": "error",
     "traceback": [
      "\u001b[1;31m---------------------------------------------------------------------------\u001b[0m",
      "\u001b[1;31mTypeError\u001b[0m                                 Traceback (most recent call last)",
      "\u001b[1;32m<ipython-input-54-a239de794b8d>\u001b[0m in \u001b[0;36m<module>\u001b[1;34m()\u001b[0m\n\u001b[1;32m----> 1\u001b[1;33m \u001b[0my\u001b[0m\u001b[1;33m[\u001b[0m\u001b[1;36m0\u001b[0m\u001b[1;33m]\u001b[0m \u001b[1;33m=\u001b[0m \u001b[1;36m4\u001b[0m  \u001b[1;31m# x[0]に4を代入...できないけどね。\u001b[0m\u001b[1;33m\u001b[0m\u001b[0m\n\u001b[0m",
      "\u001b[1;31mTypeError\u001b[0m: 'tuple' object does not support item assignment"
     ]
    }
   ],
   "source": [
    "y[0] = 4  # x[0]に4を代入...できないけどね。"
   ]
  },
  {
   "cell_type": "markdown",
   "metadata": {},
   "source": [
    "はい。ちゃんとエラーを吐きました。  \n",
    "もしこれが自爆スイッチだったら？？  \n",
    "安心安全でしょう。"
   ]
  },
  {
   "cell_type": "markdown",
   "metadata": {},
   "source": [
    "気を付けることとして、タプルの内容は変更不可ですが、yを丸ごと変更してしまうことはできます。  \n",
    "これは編集ではなく、新規作成にあたるためです。"
   ]
  },
  {
   "cell_type": "code",
   "execution_count": 56,
   "metadata": {},
   "outputs": [
    {
     "data": {
      "text/plain": [
       "(4, 2, 3)"
      ]
     },
     "execution_count": 56,
     "metadata": {},
     "output_type": "execute_result"
    }
   ],
   "source": [
    "y = (1,2,3)\n",
    "y = (4,2,3)\n",
    "y"
   ]
  },
  {
   "cell_type": "markdown",
   "metadata": {},
   "source": [
    "「これじゃあ意味がないじゃないか！」と思うかもしれないけど、こういう事故はコーディング時に適切な変数名を付けられなかったプログラマが悪いです。\n",
    "\n",
    "今回みたいな例示のためだけのコードならx, yなどで問題ないですが、何の数字が入っているか意味が分からないので、実際のコーディングではちゃんと見たらわかる名前を付けておきましょう。"
   ]
  },
  {
   "cell_type": "markdown",
   "metadata": {},
   "source": []
  }
 ],
 "metadata": {
  "kernelspec": {
   "display_name": "python_beginner",
   "language": "python",
   "name": "python_begginer"
  },
  "language_info": {
   "codemirror_mode": {
    "name": "ipython",
    "version": 3
   },
   "file_extension": ".py",
   "mimetype": "text/x-python",
   "name": "python",
   "nbconvert_exporter": "python",
   "pygments_lexer": "ipython3",
   "version": "3.6.6"
  }
 },
 "nbformat": 4,
 "nbformat_minor": 2
}
