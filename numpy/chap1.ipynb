{
 "cells": [
  {
   "cell_type": "markdown",
   "metadata": {},
   "source": [
    "# Numpyの使い方\n",
    "高速な数値計算ライブラリ  \n",
    "\n",
    "まず、難しいことを考える前にnumpyの威力を感じてみましょう。  \n",
    "$60000 \\times 100$の行列の要素をそれぞれ2乗してみます。  \n",
    "単純計算で600万回の乗算をしていることになります。  \n",
    "6万行、100列のエクセルシートの値を2乗するのと同じで、ノートPCでもちょろい計算です。"
   ]
  },
  {
   "cell_type": "markdown",
   "metadata": {},
   "source": [
    "## 事前準備\n",
    "ライブラリのインポートとデータ生成"
   ]
  },
  {
   "cell_type": "code",
   "execution_count": 15,
   "metadata": {
    "collapsed": true
   },
   "outputs": [],
   "source": [
    "from random import random\n",
    "import numpy as np"
   ]
  },
  {
   "cell_type": "code",
   "execution_count": 31,
   "metadata": {
    "collapsed": true
   },
   "outputs": [],
   "source": [
    "nrow = 60000\n",
    "ncol = 100\n",
    "\n",
    "demo_data = [[random() for i in range(ncol)] for j in range(nrow)]\n",
    "demo_data_np = np.array(demo_data)"
   ]
  },
  {
   "cell_type": "markdown",
   "metadata": {},
   "source": [
    "### numpyなしで計算した場合\n",
    "%%timeitは計算にかかった時間を計るコマンド。  \n",
    "何回か繰り返して平均と標準偏差を出してくれる。"
   ]
  },
  {
   "cell_type": "code",
   "execution_count": 32,
   "metadata": {},
   "outputs": [
    {
     "name": "stdout",
     "output_type": "stream",
     "text": [
      "1.26 s ± 22.1 ms per loop (mean ± std. dev. of 7 runs, 1 loop each)\n"
     ]
    }
   ],
   "source": [
    "%%timeit\n",
    "for i in range(nrow):\n",
    "    for j in range(ncol):\n",
    "        demo_data[i][j]**2   # べき乗は**と書く"
   ]
  },
  {
   "cell_type": "markdown",
   "metadata": {},
   "source": [
    "### numpyで計算した場合"
   ]
  },
  {
   "cell_type": "code",
   "execution_count": 35,
   "metadata": {},
   "outputs": [
    {
     "name": "stdout",
     "output_type": "stream",
     "text": [
      "19.5 ms ± 348 µs per loop (mean ± std. dev. of 7 runs, 10 loops each)\n"
     ]
    }
   ],
   "source": [
    "%%timeit\n",
    "demo_data_np**2"
   ]
  },
  {
   "cell_type": "code",
   "execution_count": 36,
   "metadata": {},
   "outputs": [
    {
     "data": {
      "text/plain": [
       "64.61538461538461"
      ]
     },
     "execution_count": 36,
     "metadata": {},
     "output_type": "execute_result"
    }
   ],
   "source": [
    "1.26/0.0195"
   ]
  },
  {
   "cell_type": "markdown",
   "metadata": {},
   "source": [
    "65倍くらいの高速化。めっちゃ速い。  \n",
    "今回は1秒以内で終わる計算だったけど、67日かかる計算が1日で終わるって凄くないですか。"
   ]
  },
  {
   "cell_type": "code",
   "execution_count": null,
   "metadata": {
    "collapsed": true
   },
   "outputs": [],
   "source": []
  }
 ],
 "metadata": {
  "kernelspec": {
   "display_name": "python_beginner",
   "language": "python",
   "name": "python_begginer"
  },
  "language_info": {
   "codemirror_mode": {
    "name": "ipython",
    "version": 3
   },
   "file_extension": ".py",
   "mimetype": "text/x-python",
   "name": "python",
   "nbconvert_exporter": "python",
   "pygments_lexer": "ipython3",
   "version": "3.6.6"
  }
 },
 "nbformat": 4,
 "nbformat_minor": 2
}
