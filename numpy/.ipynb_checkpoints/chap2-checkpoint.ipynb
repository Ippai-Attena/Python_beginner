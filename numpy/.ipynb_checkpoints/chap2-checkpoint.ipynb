{
 "cells": [
  {
   "cell_type": "markdown",
   "metadata": {},
   "source": [
    "# Numpy実践編\n",
    "## いよいよ計算していくよ！\n",
    "---"
   ]
  },
  {
   "cell_type": "markdown",
   "metadata": {},
   "source": [
    "# Numpyではarray（配列）を前提として計算を行う\n",
    "例えばこんな感じ。リスト[ ]やタプル( )などをarrayで囲えばよい。  \n",
    "行列を扱うmatrix型もあるが、行列演算は今回はしないので割愛。"
   ]
  },
  {
   "cell_type": "code",
   "execution_count": 2,
   "metadata": {},
   "outputs": [
    {
     "data": {
      "text/plain": [
       "array([5, 7, 9])"
      ]
     },
     "execution_count": 2,
     "metadata": {},
     "output_type": "execute_result"
    }
   ],
   "source": [
    "import numpy as np\n",
    "np.array([1,2,3]) + np.array([4,5,6])"
   ]
  },
  {
   "cell_type": "markdown",
   "metadata": {},
   "source": [
    "Pythonに元々備わっているリストとの違い。  \n",
    "*元々Pythonに用意されている型は__組み込み型__という。  \n",
    "参考リンク：[公式ドキュメント](https://docs.python.jp/3/library/stdtypes.html)"
   ]
  },
  {
   "cell_type": "markdown",
   "metadata": {},
   "source": [
    "リストには何でもごちゃごちゃにして突っ込める"
   ]
  },
  {
   "cell_type": "code",
   "execution_count": 16,
   "metadata": {},
   "outputs": [
    {
     "name": "stdout",
     "output_type": "stream",
     "text": [
      "['a', 1, 2.3, True]\n"
     ]
    }
   ],
   "source": [
    "a = [\"a\", 1, 2.3, True]\n",
    "print(a)"
   ]
  },
  {
   "cell_type": "markdown",
   "metadata": {},
   "source": [
    "numpyのarrayにも何でも入れられるが...基本的に型は1種類にしないといけない。  \n",
    "そうしないと全て文字列型（String型）として扱われる。  \n",
    "高速な数値計算を行うためにnumpyを使っているのに、文字列型になってしまっては計算もクソもない。  \n",
    "もちろんちょっと頑張れば数値に変換もできるが、最初から数値は数値、文字列は文字列で別々に扱うべきである。"
   ]
  },
  {
   "cell_type": "markdown",
   "metadata": {},
   "source": [
    "__ダメな例（動くけど）__"
   ]
  },
  {
   "cell_type": "code",
   "execution_count": 17,
   "metadata": {},
   "outputs": [
    {
     "name": "stdout",
     "output_type": "stream",
     "text": [
      "['a' '1' '2.3' 'True']\n",
      "文字列型なので''でそれぞれ囲まれている\n"
     ]
    }
   ],
   "source": [
    "b = np.array([\"a\", 1, 2.3, True])\n",
    "print(b)\n",
    "print(\"文字列型なので\\'\\'でそれぞれ囲まれている\")"
   ]
  },
  {
   "cell_type": "markdown",
   "metadata": {},
   "source": [
    "__良い例１__"
   ]
  },
  {
   "cell_type": "code",
   "execution_count": 25,
   "metadata": {},
   "outputs": [
    {
     "name": "stdout",
     "output_type": "stream",
     "text": [
      "[1 2 3 4 5]\n"
     ]
    }
   ],
   "source": [
    "c = np.array([1,2,3,4,5])   # 整数型で揃えた。\n",
    "print(c)"
   ]
  },
  {
   "cell_type": "markdown",
   "metadata": {},
   "source": [
    "__良い例2\\*__  \n",
    "\\*正確には良くはないが、Pythonなら気にしなくてよい"
   ]
  },
  {
   "cell_type": "code",
   "execution_count": 23,
   "metadata": {},
   "outputs": [
    {
     "name": "stdout",
     "output_type": "stream",
     "text": [
      "[1.1 2.2 3.  4. ]\n"
     ]
    }
   ],
   "source": [
    "d = np.array([1.1, 2.2, 3, 4])   # 整数型と浮動小数点型が混在\n",
    "print(d)"
   ]
  },
  {
   "cell_type": "markdown",
   "metadata": {},
   "source": [
    "すべて浮動小数点型になる（小数点ついてるでしょう？0は省略されている。）  \n",
    "小数は整数型で表現できないので、型を統一しようとすると自動的にすべて浮動小数点型に変換されているだけ。  \n",
    "C言語などのコンパイル言語では「型そろえろよ！」と、普通はエラーになる。  \n",
    "このように型について深く考えなくてよいのがPythonの良さであり、面倒くささでもある（エラーの原因が型だったということが多々ある）。"
   ]
  },
  {
   "cell_type": "markdown",
   "metadata": {},
   "source": [
    "# なぜリストなら何でも突っ込めて、numpyでは型をそろえる必要があるのか。\n",
    "→Python組み込みのリストとnumpyではメモリの使い方が異なるため。"
   ]
  },
  {
   "cell_type": "markdown",
   "metadata": {},
   "source": [
    "メモリの使い方を確認するならid関数でアドレスを見てみればよい。  \n",
    "以下ではリストとnumpy arrayの要素ごとのアドレスを表示している。  \n",
    "なお、\n",
    "```python\n",
    "print(A)\n",
    "```\n",
    "と書いてあるのはAを表示せよという命令です。また、\n",
    "```python\n",
    "for i in a:\n",
    "    なんかの処理\n",
    "```\n",
    "というのは、iにaの要素を順番に入れて、内側の段落の処理を実行しろという意味。使い方は後程。\n",
    "\n",
    "```python\n",
    "len(a)\n",
    "```\n",
    "というのは、aの長さを取得しろという意味。  \n",
    "aは4要素だったので、4を返す。"
   ]
  },
  {
   "cell_type": "markdown",
   "metadata": {},
   "source": [
    "__リストの要素ごとのアドレス__"
   ]
  },
  {
   "cell_type": "code",
   "execution_count": 29,
   "metadata": {},
   "outputs": [
    {
     "name": "stdout",
     "output_type": "stream",
     "text": [
      "['a', 1, 2.3, True]\n",
      "1787431629352\n",
      "1810914352\n",
      "1787475064728\n",
      "1810423904\n"
     ]
    }
   ],
   "source": [
    "print(a)\n",
    "for i in a:\n",
    "    print(id(i))"
   ]
  },
  {
   "cell_type": "markdown",
   "metadata": {},
   "source": [
    "__numpy arrayの要素ごとのアドレス__"
   ]
  },
  {
   "cell_type": "code",
   "execution_count": 30,
   "metadata": {},
   "outputs": [
    {
     "name": "stdout",
     "output_type": "stream",
     "text": [
      "[1 2 3 4 5]\n",
      "1787475065352\n",
      "1787475065376\n",
      "1787475065352\n",
      "1787475065376\n",
      "1787475065352\n"
     ]
    }
   ],
   "source": [
    "print(c)\n",
    "for i in c:\n",
    "    print(id(i))"
   ]
  },
  {
   "cell_type": "markdown",
   "metadata": {},
   "source": [
    "ぱっと見でわかると思うんですが、リストは要素間のアドレスがバラバラです。  \n",
    "以前、\n",
    "\n",
    "↓型がわからない  \n",
    "↓メモリの占有量がわからない  \n",
    "↓配列に数値をきれいに並べることができない  \n",
    "\n",
    "と説明したことを覚えているでしょうか。  \n",
    "リストには何でも入れられる代わりに、お互いメモリ領域が干渉しないようにバラバラに数値や文字列などを配置してしまいます。  \n",
    "型を統一して格納すればメモリ上でもちゃんと並んでくれますが、リスト自体に演算機能を持たせるのはナンセンスな気がします。  \n",
    "なぜなら型を統一してくれるかどうかはプログラマ次第だからです。型がバラバラな時に演算しようとしたらエラーになっちゃいますからね。"
   ]
  },
  {
   "cell_type": "markdown",
   "metadata": {},
   "source": [
    "### それなら型を統一すればいいじゃない！"
   ]
  },
  {
   "cell_type": "markdown",
   "metadata": {},
   "source": [
    "はい。つまり型が揃ってりゃメモリ占有量は把握できるので、要素をメモリ上に綺麗に配置できるわけです。\n",
    "\n",
    "例\n",
    "- int32型→32 bits\n",
    "- float64型→64 bits (確認したらどうやらPython3では64bitsじゃないようだが...気にしないことにする。)\n",
    "\n",
    "### 並ぶと何が嬉しいのか？？  \n",
    "それは、数値をまとめて扱うことができるようになるためです。  \n",
    "後は単純にプログラム書くときに便利。C言語などではメモリの配置に気を配る必要があるので、並んでないと困るわけです。\n",
    "\n",
    "ちなみにPythonというプログラミング言語自体もC言語で作られてます。  \n",
    "頑張ればC言語で作られたプログラムと連携をとることができます。  \n",
    "ただこれはかなり高度なテクニックなので、死ぬまで知らなくて大丈夫です。"
   ]
  },
  {
   "cell_type": "markdown",
   "metadata": {},
   "source": [
    "# 数値をまとめて扱う"
   ]
  },
  {
   "cell_type": "markdown",
   "metadata": {},
   "source": [
    "リストは型を統一する必要がなかったので、数値をまとめて扱えません。  \n",
    "以下はその確認です。"
   ]
  },
  {
   "cell_type": "markdown",
   "metadata": {},
   "source": [
    "__リスト__"
   ]
  },
  {
   "cell_type": "code",
   "execution_count": 38,
   "metadata": {},
   "outputs": [
    {
     "ename": "TypeError",
     "evalue": "can't multiply sequence by non-int of type 'list'",
     "output_type": "error",
     "traceback": [
      "\u001b[1;31m---------------------------------------------------------------------------\u001b[0m",
      "\u001b[1;31mTypeError\u001b[0m                                 Traceback (most recent call last)",
      "\u001b[1;32m<ipython-input-38-e2cb70c93f5d>\u001b[0m in \u001b[0;36m<module>\u001b[1;34m()\u001b[0m\n\u001b[0;32m      4\u001b[0m \u001b[1;33m\u001b[0m\u001b[0m\n\u001b[0;32m      5\u001b[0m \u001b[1;31m# この要素ごとの積をとりたい。\u001b[0m\u001b[1;33m\u001b[0m\u001b[1;33m\u001b[0m\u001b[0m\n\u001b[1;32m----> 6\u001b[1;33m \u001b[0mvec1\u001b[0m\u001b[1;33m*\u001b[0m\u001b[0mvec2\u001b[0m\u001b[1;33m\u001b[0m\u001b[0m\n\u001b[0m",
      "\u001b[1;31mTypeError\u001b[0m: can't multiply sequence by non-int of type 'list'"
     ]
    }
   ],
   "source": [
    "# 2つのベクトルを考える。\n",
    "vec1 = [1,2,3,4]\n",
    "vec2 = [1,2,3,4]\n",
    "\n",
    "# この要素ごとの積をとりたい。\n",
    "vec1*vec2"
   ]
  },
  {
   "cell_type": "markdown",
   "metadata": {},
   "source": [
    "リストにはこういった演算は定義されていないのでエラーが出る"
   ]
  },
  {
   "cell_type": "markdown",
   "metadata": {},
   "source": [
    "__numpy array__"
   ]
  },
  {
   "cell_type": "code",
   "execution_count": 39,
   "metadata": {},
   "outputs": [
    {
     "data": {
      "text/plain": [
       "array([ 1,  4,  9, 16])"
      ]
     },
     "execution_count": 39,
     "metadata": {},
     "output_type": "execute_result"
    }
   ],
   "source": [
    "# 2つのベクトルを考える。\n",
    "vec1 = np.array([1,2,3,4])\n",
    "vec2 = np.array([1,2,3,4])\n",
    "\n",
    "# この要素ごとの積をとりたい。\n",
    "vec1*vec2"
   ]
  },
  {
   "cell_type": "markdown",
   "metadata": {},
   "source": [
    "numpyでは数値をまとめて処理できる。"
   ]
  },
  {
   "cell_type": "markdown",
   "metadata": {},
   "source": [
    "では、最後に四則演算をしてみましょう。   \n",
    "numpyの便利な関数も使っていきますので、わからないところは調べてみてください。  \n",
    "関数についてすべて書いていたらキリがないし、そもそも私もすべては把握できていません。\n",
    "\n",
    "↓こんなことをnumpyでできないかな？  \n",
    "↓ググる！  \n",
    "という癖をつけましょう。\n",
    "\n",
    "大体はQiitaというエンジニア専用ブログみたいなサイトとか、  \n",
    "StackOverflowというエンジニアのQ&A掲示板に答えを見つけることができます。  \n",
    "というか、ここで見つからなかったら諦めたほうが良いです。"
   ]
  },
  {
   "cell_type": "markdown",
   "metadata": {},
   "source": [
    "__0-9までの連番を生成し、要素ごとに足したり引いたりかけたり割ったりしてみる。__"
   ]
  },
  {
   "cell_type": "code",
   "execution_count": 40,
   "metadata": {},
   "outputs": [
    {
     "data": {
      "text/plain": [
       "array([ 0,  2,  4,  6,  8, 10, 12, 14, 16, 18])"
      ]
     },
     "execution_count": 40,
     "metadata": {},
     "output_type": "execute_result"
    }
   ],
   "source": [
    "arr = np.arange(10)\n",
    "arr+arr"
   ]
  },
  {
   "cell_type": "code",
   "execution_count": 41,
   "metadata": {},
   "outputs": [
    {
     "data": {
      "text/plain": [
       "array([0, 0, 0, 0, 0, 0, 0, 0, 0, 0])"
      ]
     },
     "execution_count": 41,
     "metadata": {},
     "output_type": "execute_result"
    }
   ],
   "source": [
    "arr-arr"
   ]
  },
  {
   "cell_type": "code",
   "execution_count": 42,
   "metadata": {},
   "outputs": [
    {
     "data": {
      "text/plain": [
       "array([ 0,  1,  4,  9, 16, 25, 36, 49, 64, 81])"
      ]
     },
     "execution_count": 42,
     "metadata": {},
     "output_type": "execute_result"
    }
   ],
   "source": [
    "arr*arr"
   ]
  },
  {
   "cell_type": "code",
   "execution_count": 43,
   "metadata": {},
   "outputs": [
    {
     "name": "stderr",
     "output_type": "stream",
     "text": [
      "C:\\Users\\chemc\\Anaconda3\\envs\\python_begginer\\lib\\site-packages\\ipykernel_launcher.py:1: RuntimeWarning: invalid value encountered in true_divide\n",
      "  \"\"\"Entry point for launching an IPython kernel.\n"
     ]
    },
    {
     "data": {
      "text/plain": [
       "array([nan,  1.,  1.,  1.,  1.,  1.,  1.,  1.,  1.,  1.])"
      ]
     },
     "execution_count": 43,
     "metadata": {},
     "output_type": "execute_result"
    }
   ],
   "source": [
    "arr/arr"
   ]
  },
  {
   "cell_type": "markdown",
   "metadata": {},
   "source": [
    "0/0は演算として定義されていないので、警告が出る。  \n",
    "そもそも計算ができないので、nan (not a numberの略)と表示されている。   \n",
    "numpy独自の型であるので、python組み込みの機能では扱えないので注意。  \n",
    "エラーにせずに、可能なところは計算してくれるのを優しいと思うかクソ仕様と思うかは人次第かもしれない。  \n",
    "nanの扱いには特に注意を払う必要があるので、以下で知っておくべきことを簡単にまとめておく。"
   ]
  },
  {
   "cell_type": "code",
   "execution_count": 44,
   "metadata": {},
   "outputs": [
    {
     "data": {
      "text/plain": [
       "nan"
      ]
     },
     "execution_count": 44,
     "metadata": {},
     "output_type": "execute_result"
    }
   ],
   "source": [
    "np.nan + 1"
   ]
  },
  {
   "cell_type": "code",
   "execution_count": 46,
   "metadata": {},
   "outputs": [
    {
     "data": {
      "text/plain": [
       "nan"
      ]
     },
     "execution_count": 46,
     "metadata": {},
     "output_type": "execute_result"
    }
   ],
   "source": [
    "np.nan - 1"
   ]
  },
  {
   "cell_type": "code",
   "execution_count": 45,
   "metadata": {},
   "outputs": [
    {
     "data": {
      "text/plain": [
       "nan"
      ]
     },
     "execution_count": 45,
     "metadata": {},
     "output_type": "execute_result"
    }
   ],
   "source": [
    "np.nan * 1"
   ]
  },
  {
   "cell_type": "code",
   "execution_count": 47,
   "metadata": {},
   "outputs": [
    {
     "data": {
      "text/plain": [
       "nan"
      ]
     },
     "execution_count": 47,
     "metadata": {},
     "output_type": "execute_result"
    }
   ],
   "source": [
    "np.nan / np.nan"
   ]
  },
  {
   "cell_type": "markdown",
   "metadata": {
    "collapsed": true
   },
   "source": [
    "__nanはどんな計算をしてもnanになる!__  \n",
    "わかっててエイヤっと計算してしまうなら構わないが、エラーを吐かないので知らずに間違って計算してしまうことがある。  \n",
    "注意しましょう。"
   ]
  },
  {
   "cell_type": "markdown",
   "metadata": {},
   "source": [
    "# 課題"
   ]
  },
  {
   "cell_type": "markdown",
   "metadata": {},
   "source": [
    "$$\n",
    "y=x^2\n",
    "$$"
   ]
  },
  {
   "cell_type": "markdown",
   "metadata": {},
   "source": [
    "のグラフを作ってみてください。  \n",
    "放物線が見えれば、良いです。\n",
    "\n",
    "ヒント  \n",
    "1. np.arangeとかnp.linspaceを使うと便利。  \n",
    "1. グラフを表示するのでmatplotlibも必要ですね"
   ]
  },
  {
   "cell_type": "code",
   "execution_count": null,
   "metadata": {
    "collapsed": true
   },
   "outputs": [],
   "source": []
  }
 ],
 "metadata": {
  "kernelspec": {
   "display_name": "python_beginner",
   "language": "python",
   "name": "python_begginer"
  },
  "language_info": {
   "codemirror_mode": {
    "name": "ipython",
    "version": 3
   },
   "file_extension": ".py",
   "mimetype": "text/x-python",
   "name": "python",
   "nbconvert_exporter": "python",
   "pygments_lexer": "ipython3",
   "version": "3.6.6"
  }
 },
 "nbformat": 4,
 "nbformat_minor": 2
}
